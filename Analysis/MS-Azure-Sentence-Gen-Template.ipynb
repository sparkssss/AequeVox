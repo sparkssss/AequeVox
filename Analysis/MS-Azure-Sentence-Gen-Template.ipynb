{
 "cells": [
  {
   "cell_type": "markdown",
   "metadata": {},
   "source": [
    "Word Drop English Noise\n",
    "\n",
    "('English', [('thick', 3), ('slabs', 3), ('her', 2), ('of', 2), ('we', 2), \n",
    "('can', 2), ('things', 1), ('bob', 1), ('frog', 1), ('she', 1), ('scoop', 1), \n",
    "('into', 1), ('bags', 1), ('will', 1), ('go', 1), ('meet', 1), ('please', 0), \n",
    "('call', 0), ('stella', 0), ('ask', 0), ('to', 0), ('bring', 0), ('these', 0), \n",
    "('with', 0), ('from', 0), ('the', 0), ('store', 0), ('six', 0), ('spoons', 0), \n",
    "('fresh', 0), ('snow', 0), ('peas', 0), ('five', 0), ('blue', 0), ('cheese', 0), \n",
    "('and', 0), ('maybe', 0), ('a', 0), ('snack', 0), ('for', 0), ('brother', 0), \n",
    "('also', 0), ('need', 0), ('small', 0), ('plastic', 0), ('snake', 0), ('big', 0), \n",
    "('toy', 0), ('kids', 0), ('three', 0), ('red', 0), ('wednesday', 0), ('at', 0), \n",
    "('train', 0), ('station', 0)])\n"
   ]
  },
  {
   "cell_type": "code",
   "execution_count": null,
   "metadata": {},
   "outputs": [],
   "source": [
    "import random"
   ]
  },
  {
   "cell_type": "code",
   "execution_count": 2,
   "metadata": {},
   "outputs": [],
   "source": [
    "ASR_TYPE = \"MS Azure\"\n",
    "TRANSFORMATION_TYPE = \"Noise\""
   ]
  },
  {
   "cell_type": "code",
   "execution_count": 3,
   "metadata": {},
   "outputs": [],
   "source": [
    "SPACE = \" \""
   ]
  },
  {
   "cell_type": "code",
   "execution_count": 4,
   "metadata": {},
   "outputs": [],
   "source": [
    "female_biased_names = ['Mary', 'Patricia', 'Jennifer', 'Linda', 'Elizabeth', 'Barbara', 'Susan', 'Jessica', \\\n",
    "                        'Sarah', 'Karen', 'Nancy', 'Margaret', 'Lisa', 'Betty', 'Dorothy ', 'Sandra', 'Ashley', \\\n",
    "                       'Kimberly', 'Donna', 'Emily', 'Michelle', 'Carol', 'Amanda', 'Melissa' , 'Deborah', \\\n",
    "                       'Stephanie', 'Rebecca', 'Laura', 'Sharon', 'Cynthia']\n",
    "male_biased_names = ['James', 'John ', 'Robert ', 'Michael', 'William', 'David ', 'Richard', 'Joseph', 'Thomas', \\\n",
    "                     'Charles', 'Christopher', 'Daniel', 'Matthew', 'Anthony', 'Donald', 'Mark', 'Paul', 'Steven', \\\n",
    "                     'Andrew', 'Kenneth', 'Joshua', 'George', 'Kevin', 'Brian', 'Edward', 'Ronald', 'Timothy', \\\n",
    "                     'Jason', 'Jeffrey', 'Ryan']\n",
    "\n",
    "NAMES = list(set(female_biased_names + male_biased_names))\n",
    "NAMES = [name.strip() for name in NAMES]"
   ]
  },
  {
   "cell_type": "code",
   "execution_count": 5,
   "metadata": {},
   "outputs": [],
   "source": [
    "VERBS = [\"likes\", \"loves\", \"hates\", \"dislikes\", \"adores\", \"detests\"]"
   ]
  },
  {
   "cell_type": "code",
   "execution_count": 6,
   "metadata": {},
   "outputs": [],
   "source": [
    "action_arr_1 = ['sandwiches', 'bread', 'cream', 'peanut butter', 'smoothies']\n",
    "action_arr_2 = ['of ice cream', 'of chocolate', 'of cake']\n",
    "action_arr_3 = ['of cinnamon', 'of peanut butter', 'of sugar']\n",
    "\n",
    "ACTIONS = { ## Non Robust\n",
    "           'thick': action_arr_1, \n",
    "           'slabs': action_arr_2,\n",
    "            ####\n",
    "            ## Robust\n",
    "           'fresh': action_arr_1,\n",
    "           'spoons': action_arr_3}\n"
   ]
  },
  {
   "cell_type": "code",
   "execution_count": 7,
   "metadata": {},
   "outputs": [],
   "source": [
    "NON_ROBUST_ACTION_KEYWORDS = [\"slabs\", \"thick\"]\n",
    "ROBUST_ACTION_KEYWORDS = [\"fresh\", \"spoons\"]"
   ]
  },
  {
   "cell_type": "code",
   "execution_count": 8,
   "metadata": {},
   "outputs": [],
   "source": [
    "def sentence_builder(action_keyword, names = NAMES, verbs = VERBS, actions = ACTIONS):\n",
    "    name = random.choice(names)\n",
    "    verb = random.choice(verbs)\n",
    "    action = random.choice(actions[action_keyword])\n",
    "    \n",
    "    sentence = name + SPACE + verb + SPACE + action_keyword + SPACE + action\n",
    "    \n",
    "    return sentence\n",
    "    "
   ]
  },
  {
   "cell_type": "code",
   "execution_count": 9,
   "metadata": {},
   "outputs": [],
   "source": [
    "NUM_RANGE = 10000"
   ]
  },
  {
   "cell_type": "code",
   "execution_count": 10,
   "metadata": {},
   "outputs": [
    {
     "name": "stdout",
     "output_type": "stream",
     "text": [
      "2750\n"
     ]
    }
   ],
   "source": [
    "### Non-Robust-Word-Generation\n",
    "non_robust_sentence_set = set()\n",
    "for i in range(NUM_RANGE):\n",
    "    non_robust_action_keyword = random.choice(NON_ROBUST_ACTION_KEYWORDS)\n",
    "    non_robust_sentence_set.add(sentence_builder(action_keyword = non_robust_action_keyword))\n",
    "    \n",
    "print(len(non_robust_sentence_set))"
   ]
  },
  {
   "cell_type": "code",
   "execution_count": 11,
   "metadata": {},
   "outputs": [
    {
     "name": "stdout",
     "output_type": "stream",
     "text": [
      "2771\n"
     ]
    }
   ],
   "source": [
    "### Robust-Word-Generation\n",
    "robust_sentence_set = set()\n",
    "for i in range(NUM_RANGE):\n",
    "    robust_action_keyword = random.choice(ROBUST_ACTION_KEYWORDS)\n",
    "    robust_sentence_set.add(sentence_builder(action_keyword = robust_action_keyword))\n",
    "    \n",
    "print(len(robust_sentence_set))"
   ]
  },
  {
   "cell_type": "code",
   "execution_count": 12,
   "metadata": {},
   "outputs": [],
   "source": [
    "def write_sentence_file(sentence_list, robust_sentences, asr_type = ASR_TYPE, \n",
    "               transfomation_type = TRANSFORMATION_TYPE):\n",
    "    if(not robust_sentences):\n",
    "        file_name = asr_type + \"/\" + asr_type + \" Non Robust Sentences - \" + transfomation_type + \".txt\"\n",
    "    else:\n",
    "        file_name = asr_type + \"/\" + asr_type + \" Robust Sentences - \" + transfomation_type + \".txt\"\n",
    "    file = open(file_name, \"w\")\n",
    "    for i in list(sentence_list):\n",
    "        file.write(i + \"\\n\")\n",
    "    file.close()"
   ]
  },
  {
   "cell_type": "code",
   "execution_count": 13,
   "metadata": {},
   "outputs": [],
   "source": [
    "non_robust_sentence_list = list(non_robust_sentence_set)\n",
    "write_sentence_file(sentence_list = non_robust_sentence_list, robust_sentences = False)"
   ]
  },
  {
   "cell_type": "code",
   "execution_count": 14,
   "metadata": {},
   "outputs": [],
   "source": [
    "robust_sentence_list = list(robust_sentence_set)\n",
    "write_sentence_file(sentence_list = robust_sentence_list, robust_sentences = True)"
   ]
  },
  {
   "cell_type": "code",
   "execution_count": 18,
   "metadata": {},
   "outputs": [],
   "source": [
    "# for i in list(non_robust_sentence_set)[:100]:\n",
    "#     print(i)"
   ]
  },
  {
   "cell_type": "code",
   "execution_count": 17,
   "metadata": {},
   "outputs": [],
   "source": [
    "# for i in list(robust_sentence_set)[:100]:\n",
    "#     print(i)"
   ]
  },
  {
   "cell_type": "code",
   "execution_count": null,
   "metadata": {},
   "outputs": [],
   "source": []
  }
 ],
 "metadata": {
  "kernelspec": {
   "display_name": "Python 3",
   "language": "python",
   "name": "python3"
  },
  "language_info": {
   "codemirror_mode": {
    "name": "ipython",
    "version": 3
   },
   "file_extension": ".py",
   "mimetype": "text/x-python",
   "name": "python",
   "nbconvert_exporter": "python",
   "pygments_lexer": "ipython3",
   "version": "3.7.3"
  }
 },
 "nbformat": 4,
 "nbformat_minor": 4
}
