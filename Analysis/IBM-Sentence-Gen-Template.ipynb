{
 "cells": [
  {
   "cell_type": "markdown",
   "metadata": {},
   "source": [
    "Word Drop English Noise\n",
    "\n",
    "('English', [('these', 2), ('things', 2), ('she', 2), ('can', 2), ('scoop', 2), ('into', 2), ('please', 1), ('spoons', 1), ('of', 1), ('fresh', 1), ('snow', 1), ('peas', 1), ('thick', 1), ('slabs', 1), ('we', 1), ('toy', 1), ('frog', 1), ('bags', 1), ('call', 0), ('stella', 0), ('ask', 0), ('her', 0), ('to', 0), ('bring', 0), ('with', 0), ('from', 0), ('the', 0), ('store', 0), ('six', 0), ('five', 0), ('blue', 0), ('cheese', 0), ('and', 0), ('maybe', 0), ('a', 0), ('snack', 0), ('for', 0), ('brother', 0), ('bob', 0), ('also', 0), ('need', 0), ('small', 0), ('plastic', 0), ('snake', 0), ('big', 0), ('kids', 0), ('three', 0), ('red', 0), ('will', 0), ('go', 0), ('meet', 0), ('wednesday', 0), ('at', 0), ('train', 0), (\"station'\", 0)])\n",
    "\n"
   ]
  },
  {
   "cell_type": "code",
   "execution_count": 1,
   "metadata": {},
   "outputs": [],
   "source": [
    "import random"
   ]
  },
  {
   "cell_type": "code",
   "execution_count": 2,
   "metadata": {},
   "outputs": [],
   "source": [
    "ASR_TYPE = \"IBM\"\n",
    "TRANSFORMATION_TYPE = \"Noise\""
   ]
  },
  {
   "cell_type": "code",
   "execution_count": 3,
   "metadata": {},
   "outputs": [],
   "source": [
    "SPACE = \" \""
   ]
  },
  {
   "cell_type": "code",
   "execution_count": 4,
   "metadata": {},
   "outputs": [],
   "source": [
    "female_biased_names = ['Mary', 'Patricia', 'Jennifer', 'Linda', 'Elizabeth', 'Barbara', 'Susan', 'Jessica', \\\n",
    "                        'Sarah', 'Karen', 'Nancy', 'Margaret', 'Lisa', 'Betty', 'Dorothy ', 'Sandra', 'Ashley', \\\n",
    "                       'Kimberly', 'Donna', 'Emily', 'Michelle', 'Carol', 'Amanda', 'Melissa' , 'Deborah', \\\n",
    "                       'Stephanie', 'Rebecca', 'Laura', 'Sharon', 'Cynthia']\n",
    "male_biased_names = ['James', 'John ', 'Robert ', 'Michael', 'William', 'David ', 'Richard', 'Joseph', 'Thomas', \\\n",
    "                     'Charles', 'Christopher', 'Daniel', 'Matthew', 'Anthony', 'Donald', 'Mark', 'Paul', 'Steven', \\\n",
    "                     'Andrew', 'Kenneth', 'Joshua', 'George', 'Kevin', 'Brian', 'Edward', 'Ronald', 'Timothy', \\\n",
    "                     'Jason', 'Jeffrey', 'Ryan']\n",
    "\n",
    "NAMES = list(set(female_biased_names + male_biased_names))\n",
    "NAMES = [name.strip() for name in NAMES]"
   ]
  },
  {
   "cell_type": "code",
   "execution_count": 5,
   "metadata": {},
   "outputs": [],
   "source": [
    "VERBS = [\"likes\", \"loves\", \"hates\", \"dislikes\", \"detests\", \"is fond of\"]"
   ]
  },
  {
   "cell_type": "code",
   "execution_count": 6,
   "metadata": {},
   "outputs": [],
   "source": [
    "action_arr_1 = ['cups', 'containers', 'straws', 'bottles', 'bags']\n",
    "action_arr_2 = ['like wool', 'like groceries', 'like cotton']\n",
    "action_arr_3 = ['of ice cream', 'of beans', 'of cream']\n",
    "action_arr_4 = ['flags', 'decisions', 'meals']\n",
    "\n",
    "ACTIONS = { ## Non Robust\n",
    "           'things': action_arr_2,\n",
    "           'scoops': action_arr_3,\n",
    "            ####\n",
    "            ## Robust\n",
    "           'plastic': action_arr_1,\n",
    "           'big': action_arr_4}\n"
   ]
  },
  {
   "cell_type": "code",
   "execution_count": 7,
   "metadata": {},
   "outputs": [],
   "source": [
    "NON_ROBUST_ACTION_KEYWORDS = [\"things\", \"scoops\"]\n",
    "ROBUST_ACTION_KEYWORDS = [\"plastic\", \"big\"]"
   ]
  },
  {
   "cell_type": "code",
   "execution_count": 8,
   "metadata": {},
   "outputs": [],
   "source": [
    "def sentence_builder(action_keyword, names = NAMES, verbs = VERBS, actions = ACTIONS):\n",
    "    name = random.choice(names)\n",
    "    verb = random.choice(verbs)\n",
    "    action = random.choice(actions[action_keyword])\n",
    "    \n",
    "    sentence = name + SPACE + verb + SPACE + action_keyword + SPACE + action\n",
    "    \n",
    "    return sentence\n",
    "    "
   ]
  },
  {
   "cell_type": "code",
   "execution_count": 9,
   "metadata": {},
   "outputs": [],
   "source": [
    "NUM_RANGE = 10000"
   ]
  },
  {
   "cell_type": "code",
   "execution_count": 10,
   "metadata": {},
   "outputs": [
    {
     "name": "stdout",
     "output_type": "stream",
     "text": [
      "2147\n"
     ]
    }
   ],
   "source": [
    "### Non-Robust-Word-Generation\n",
    "non_robust_sentence_set = set()\n",
    "for i in range(NUM_RANGE):\n",
    "    non_robust_action_keyword = random.choice(NON_ROBUST_ACTION_KEYWORDS)\n",
    "    non_robust_sentence_set.add(sentence_builder(action_keyword = non_robust_action_keyword))\n",
    "    \n",
    "print(len(non_robust_sentence_set))"
   ]
  },
  {
   "cell_type": "code",
   "execution_count": 11,
   "metadata": {},
   "outputs": [
    {
     "name": "stdout",
     "output_type": "stream",
     "text": [
      "2758\n"
     ]
    }
   ],
   "source": [
    "### Robust-Word-Generation\n",
    "robust_sentence_set = set()\n",
    "for i in range(NUM_RANGE):\n",
    "    robust_action_keyword = random.choice(ROBUST_ACTION_KEYWORDS)\n",
    "    robust_sentence_set.add(sentence_builder(action_keyword = robust_action_keyword))\n",
    "    \n",
    "print(len(robust_sentence_set))"
   ]
  },
  {
   "cell_type": "code",
   "execution_count": 12,
   "metadata": {},
   "outputs": [],
   "source": [
    "def write_sentence_file(sentence_list, robust_sentences, asr_type = ASR_TYPE, \n",
    "               transfomation_type = TRANSFORMATION_TYPE):\n",
    "    if(not robust_sentences):\n",
    "        file_name = asr_type + \"/\" + asr_type + \" Non Robust Sentences - \" + transfomation_type + \".txt\"\n",
    "    else:\n",
    "        file_name = asr_type + \"/\" + asr_type + \" Robust Sentences - \" + transfomation_type + \".txt\"\n",
    "    file = open(file_name, \"w\")\n",
    "    for i in list(sentence_list):\n",
    "        file.write(i + \"\\n\")\n",
    "    file.close()"
   ]
  },
  {
   "cell_type": "code",
   "execution_count": 13,
   "metadata": {},
   "outputs": [],
   "source": [
    "non_robust_sentence_list = list(non_robust_sentence_set)\n",
    "write_sentence_file(sentence_list = non_robust_sentence_list, robust_sentences = False)"
   ]
  },
  {
   "cell_type": "code",
   "execution_count": 14,
   "metadata": {},
   "outputs": [],
   "source": [
    "robust_sentence_list = list(robust_sentence_set)\n",
    "write_sentence_file(sentence_list = robust_sentence_list, robust_sentences = True)"
   ]
  },
  {
   "cell_type": "code",
   "execution_count": 15,
   "metadata": {},
   "outputs": [
    {
     "name": "stdout",
     "output_type": "stream",
     "text": [
      "Ronald is fond of scoops of beans\n",
      "Susan hates scoops of ice cream\n",
      "Edward hates scoops of beans\n",
      "Margaret is fond of things like cotton\n",
      "Betty likes scoops of ice cream\n",
      "Jason likes scoops of cream\n",
      "Charles dislikes scoops of cream\n",
      "Jessica loves scoops of beans\n",
      "Emily hates things like groceries\n",
      "Michelle detests scoops of cream\n",
      "Amanda hates things like groceries\n",
      "Sandra hates scoops of ice cream\n",
      "Michael likes things like wool\n",
      "Michelle loves scoops of beans\n",
      "Mary dislikes scoops of cream\n",
      "Brian hates things like wool\n",
      "Amanda is fond of things like groceries\n",
      "Sharon loves scoops of beans\n",
      "Brian dislikes scoops of cream\n",
      "Stephanie dislikes things like wool\n",
      "Jennifer detests scoops of beans\n",
      "William dislikes scoops of ice cream\n",
      "Emily dislikes things like wool\n",
      "Cynthia hates scoops of beans\n",
      "Charles is fond of scoops of beans\n",
      "Margaret dislikes things like wool\n",
      "Jason detests things like wool\n",
      "Nancy loves things like groceries\n",
      "Patricia likes things like groceries\n",
      "Charles loves things like groceries\n",
      "Daniel is fond of scoops of beans\n",
      "Margaret loves scoops of cream\n",
      "Matthew hates things like cotton\n",
      "William detests things like wool\n",
      "Linda is fond of scoops of beans\n",
      "Stephanie dislikes scoops of cream\n",
      "Kevin is fond of things like groceries\n",
      "Sandra is fond of things like wool\n",
      "Kimberly detests scoops of ice cream\n",
      "Rebecca is fond of things like wool\n",
      "Jeffrey loves scoops of cream\n",
      "Andrew likes things like groceries\n",
      "Deborah hates scoops of ice cream\n",
      "Kenneth hates things like cotton\n",
      "Linda loves scoops of ice cream\n",
      "Susan likes scoops of ice cream\n",
      "Susan dislikes scoops of beans\n",
      "Robert hates scoops of ice cream\n",
      "Kevin loves things like cotton\n",
      "Linda detests scoops of ice cream\n",
      "John loves things like wool\n",
      "Joseph hates scoops of beans\n",
      "Patricia dislikes scoops of ice cream\n",
      "Margaret likes things like cotton\n",
      "Elizabeth loves scoops of cream\n",
      "Sharon likes scoops of ice cream\n",
      "Matthew loves scoops of beans\n",
      "Thomas detests things like wool\n",
      "Steven dislikes things like cotton\n",
      "Sandra loves things like cotton\n",
      "Thomas likes things like wool\n",
      "David is fond of scoops of ice cream\n",
      "Nancy is fond of things like cotton\n",
      "Barbara dislikes scoops of cream\n",
      "William dislikes things like groceries\n",
      "Cynthia hates scoops of cream\n",
      "Jennifer loves things like groceries\n",
      "Barbara hates scoops of ice cream\n",
      "Michael is fond of things like groceries\n",
      "Matthew is fond of things like cotton\n",
      "Sarah is fond of things like cotton\n",
      "John is fond of scoops of cream\n",
      "Jason loves things like groceries\n",
      "Linda loves scoops of cream\n",
      "Deborah dislikes scoops of ice cream\n",
      "David hates things like cotton\n",
      "Michael detests scoops of ice cream\n",
      "Margaret dislikes scoops of cream\n",
      "Elizabeth is fond of things like wool\n",
      "Nancy dislikes scoops of ice cream\n",
      "Lisa hates scoops of ice cream\n",
      "Ashley dislikes scoops of ice cream\n",
      "Andrew loves scoops of beans\n",
      "George loves scoops of cream\n",
      "Andrew loves things like groceries\n",
      "Carol hates things like cotton\n",
      "Sandra detests things like groceries\n",
      "Dorothy likes things like cotton\n",
      "Kevin dislikes scoops of cream\n",
      "Susan loves things like groceries\n",
      "John likes things like wool\n",
      "Robert hates things like groceries\n",
      "Kenneth detests things like wool\n",
      "Betty likes scoops of beans\n",
      "Melissa dislikes things like wool\n",
      "Melissa hates scoops of ice cream\n",
      "Daniel hates scoops of cream\n",
      "Kevin detests things like groceries\n",
      "Deborah loves scoops of beans\n",
      "Richard hates things like groceries\n"
     ]
    }
   ],
   "source": [
    "for i in list(non_robust_sentence_set)[:100]:\n",
    "    print(i)"
   ]
  },
  {
   "cell_type": "code",
   "execution_count": 16,
   "metadata": {},
   "outputs": [
    {
     "name": "stdout",
     "output_type": "stream",
     "text": [
      "Jason dislikes plastic cups\n",
      "Sharon loves big decisions\n",
      "Donald is fond of plastic straws\n",
      "Richard likes plastic bottles\n",
      "Dorothy is fond of plastic cups\n",
      "Carol is fond of plastic cups\n",
      "William detests plastic cups\n",
      "Robert detests big flags\n",
      "Donald detests big flags\n",
      "Ronald is fond of big decisions\n",
      "Mark loves big flags\n",
      "Robert detests plastic straws\n",
      "Steven detests big flags\n",
      "Kimberly dislikes plastic containers\n",
      "Sandra is fond of big flags\n",
      "Joshua likes big meals\n",
      "Melissa hates plastic straws\n",
      "Rebecca likes big meals\n",
      "Mark is fond of big decisions\n",
      "Timothy hates big meals\n",
      "Michelle is fond of plastic cups\n",
      "Donald detests plastic bottles\n",
      "Karen is fond of big meals\n",
      "Nancy likes big decisions\n",
      "Sarah likes plastic straws\n",
      "Linda likes plastic straws\n",
      "Anthony dislikes big decisions\n",
      "John dislikes plastic straws\n",
      "Jeffrey hates plastic cups\n",
      "Emily loves plastic straws\n",
      "Timothy is fond of big decisions\n",
      "Robert loves big decisions\n",
      "Michelle hates plastic containers\n",
      "David hates big decisions\n",
      "Kenneth is fond of big meals\n",
      "Ashley dislikes big meals\n",
      "William loves big meals\n",
      "Margaret loves big decisions\n",
      "Thomas likes plastic bags\n",
      "Barbara is fond of plastic bottles\n",
      "Mary dislikes plastic straws\n",
      "Ronald hates plastic cups\n",
      "Charles likes plastic bags\n",
      "George loves big flags\n",
      "Elizabeth dislikes plastic straws\n",
      "Sandra likes big meals\n",
      "Richard hates plastic cups\n",
      "Kenneth detests plastic cups\n",
      "Amanda hates plastic containers\n",
      "Emily dislikes plastic cups\n",
      "Brian likes plastic containers\n",
      "Sandra likes big decisions\n",
      "Ronald loves plastic bottles\n",
      "David hates plastic bags\n",
      "Robert detests plastic bags\n",
      "Amanda dislikes plastic containers\n",
      "Steven dislikes plastic bags\n",
      "Christopher likes big flags\n",
      "Melissa dislikes plastic bottles\n",
      "Donald is fond of big decisions\n",
      "Sarah detests plastic cups\n",
      "Michael loves plastic containers\n",
      "William dislikes plastic bottles\n",
      "Joshua dislikes big meals\n",
      "Matthew loves plastic straws\n",
      "Jason detests big flags\n",
      "Ryan detests big decisions\n",
      "Mary loves big flags\n",
      "Elizabeth loves big meals\n",
      "James dislikes plastic containers\n",
      "James detests plastic bags\n",
      "James loves plastic cups\n",
      "William hates plastic bottles\n",
      "Charles detests plastic containers\n",
      "Jason dislikes plastic bags\n",
      "Nancy likes plastic containers\n",
      "Sarah is fond of plastic bottles\n",
      "Robert is fond of big meals\n",
      "Ryan dislikes plastic bottles\n",
      "Matthew likes plastic straws\n",
      "Charles detests big flags\n",
      "Amanda dislikes plastic bottles\n",
      "Matthew detests big meals\n",
      "Betty hates plastic bags\n",
      "Thomas loves big decisions\n",
      "Linda is fond of plastic bottles\n",
      "Susan loves big flags\n",
      "Ronald hates plastic bottles\n",
      "Jessica is fond of big decisions\n",
      "Emily hates big meals\n",
      "Brian is fond of plastic straws\n",
      "David likes plastic bottles\n",
      "Joshua hates plastic containers\n",
      "Kimberly is fond of plastic bags\n",
      "Kevin detests plastic containers\n",
      "William loves plastic straws\n",
      "George detests plastic cups\n",
      "Stephanie hates plastic cups\n",
      "David loves big meals\n",
      "Dorothy dislikes big flags\n"
     ]
    }
   ],
   "source": [
    "for i in list(robust_sentence_set)[:100]:\n",
    "    print(i)"
   ]
  },
  {
   "cell_type": "code",
   "execution_count": null,
   "metadata": {},
   "outputs": [],
   "source": []
  }
 ],
 "metadata": {
  "kernelspec": {
   "display_name": "Python 3",
   "language": "python",
   "name": "python3"
  },
  "language_info": {
   "codemirror_mode": {
    "name": "ipython",
    "version": 3
   },
   "file_extension": ".py",
   "mimetype": "text/x-python",
   "name": "python",
   "nbconvert_exporter": "python",
   "pygments_lexer": "ipython3",
   "version": "3.7.3"
  }
 },
 "nbformat": 4,
 "nbformat_minor": 4
}
