{
 "cells": [
  {
   "cell_type": "code",
   "execution_count": 1,
   "metadata": {},
   "outputs": [],
   "source": [
    "import csv\n",
    "import numpy as np\n",
    "import matplotlib.pyplot as plt\n",
    "import copy"
   ]
  },
  {
   "cell_type": "code",
   "execution_count": 2,
   "metadata": {},
   "outputs": [],
   "source": [
    "ASR_TYPES = [\"MS\", \"GCP\", \"IBM\"]\n"
   ]
  },
  {
   "cell_type": "code",
   "execution_count": 3,
   "metadata": {},
   "outputs": [],
   "source": [
    "robust_drops = {\"MS\":0, \"GCP\":0, \"IBM\":21}\n",
    "non_robust_drops = {\"MS\":23, \"GCP\":15, \"IBM\":30}\n",
    "\n",
    "WORD_TYPES = [\"Robust Words\", \"Non Robust Words\"]\n",
    "\n",
    "robust_drops_arr = [0, 0, 21]\n",
    "non_robust_drops_arr = [23, 15, 30]\n",
    "SAVE_FOLDER = \"/Users/sakshiudeshi/Documents/SUTD/Research/LaTeX/speechPaper/figs/\"\n"
   ]
  },
  {
   "cell_type": "code",
   "execution_count": 4,
   "metadata": {},
   "outputs": [],
   "source": [
    "def autolabel(rects):\n",
    "    \n",
    "    \n",
    "    \"\"\"\n",
    "    Attach a text label above each bar displaying its height\n",
    "    \"\"\"\n",
    "    for rect in rects:\n",
    "        height = rect.get_height()\n",
    "        text_height = height + max(0.02*height, 0.5)\n",
    "            \n",
    "        ax.text(rect.get_x() + rect.get_width()/2., text_height,\n",
    "                '%d' % int(height),\n",
    "                ha='center', va='bottom', rotation=\"vertical\")"
   ]
  },
  {
   "cell_type": "code",
   "execution_count": 5,
   "metadata": {},
   "outputs": [
    {
     "data": {
      "image/png": "[encoded data removed]",
      "text/plain": [
       "<Figure size 720x720 with 1 Axes>"
      ]
     },
     "metadata": {
      "needs_background": "light"
     },
     "output_type": "display_data"
    }
   ],
   "source": [
    "step_size = 1.5\n",
    "width = 0.25\n",
    "colors = ['g', 'r', 'b', 'y']\n",
    "\n",
    "\n",
    "N = len(ASR_TYPES)\n",
    "ind = np.arange(N * step_size, step = step_size) \n",
    "\n",
    "fig = plt.figure(figsize=(10, 10))\n",
    "ax = fig.add_subplot(111)\n",
    "\n",
    "rects = []\n",
    "rects.append(ax.bar(ind + width*0, robust_drops_arr, width = width, color=colors[0]))\n",
    "rects.append(ax.bar(ind + width*1, non_robust_drops_arr, width = width, color=colors[1]))\n",
    "\n",
    "ax.set_xticks(ind + width * 0.5)\n",
    "ax.set_xticklabels(ASR_TYPES)\n",
    "\n",
    "plt.ylim(top = np.max(non_robust_drops_arr) * 1.2)\n",
    "\n",
    "ax.legend((rect for rect in rects), (word for word in WORD_TYPES))\n",
    "\n",
    "ax.set_ylabel('Mispredictions')\n",
    "\n",
    "\n",
    "for rect in rects:\n",
    "    autolabel(rect)\n",
    "    \n",
    "plt.savefig(SAVE_FOLDER  + \"Explanability-Generality\",bbox='tight', dpi=300)\n",
    "\n",
    "\n",
    "plt.show()"
   ]
  },
  {
   "cell_type": "code",
   "execution_count": null,
   "metadata": {},
   "outputs": [],
   "source": []
  }
 ],
 "metadata": {
  "kernelspec": {
   "display_name": "Python 3",
   "language": "python",
   "name": "python3"
  },
  "language_info": {
   "codemirror_mode": {
    "name": "ipython",
    "version": 3
   },
   "file_extension": ".py",
   "mimetype": "text/x-python",
   "name": "python",
   "nbconvert_exporter": "python",
   "pygments_lexer": "ipython3",
   "version": "3.7.3"
  }
 },
 "nbformat": 4,
 "nbformat_minor": 4
}
