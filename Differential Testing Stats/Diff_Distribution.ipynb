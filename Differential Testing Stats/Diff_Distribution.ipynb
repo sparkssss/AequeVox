{
 "cells": [
  {
   "cell_type": "code",
   "execution_count": 1,
   "metadata": {},
   "outputs": [],
   "source": [
    "import csv\n",
    "import matplotlib.pyplot as plt\n",
    "from matplotlib import transforms\n",
    "import numpy as np\n",
    "import copy"
   ]
  },
  {
   "cell_type": "code",
   "execution_count": 2,
   "metadata": {},
   "outputs": [],
   "source": [
    "DATASET_TYPES = [\"AAVE_UK\", \"RAVDESS\", \"Accents\", \"Nigeria_UK_Midlands\"]\n",
    "DATASET_TYPE_VAL = 1\n",
    "\n",
    "SAVE_ONLY_TOTAL = False\n",
    "COMPREHENSIBILITY_THRESHOLD_IN_TITLE = True\n",
    "\n",
    "DATASET_TYPE = DATASET_TYPES[DATASET_TYPE_VAL]\n",
    "\n",
    "ASR_TYPES = [\"MS_IBM\", \"GCP_IBM\", \"MS_GCP\"]\n",
    "\n",
    "TRANSFORMATION_TYPES = [\"Amp\", \"Clipping\", \"Drop\", \"Frame\", \"HP\", \"LP\", \"Noise\", \"Scale\"]\n",
    "\n",
    "GROUPS = ['Male', 'Female']\n",
    "\n",
    "GET_UNIQUE_ERRORS = False\n",
    "\n",
    "# SAVE_FOLDER = \"/Users/sakshiudeshi/Documents/SUTD/Research/LaTeX/speechPaper/figs/\"\n",
    "# SAVE_FOLDER = \"/Users/sakshiudeshi/Documents/SUTD/Research/LaTeX/speechPaper/figs/RQ2/\"\n",
    "\n",
    "COMPREHENSIBILITY_THRESHOLD = 6\n",
    "SAVE_FOLDER = \"Saved_Imgs/\""
   ]
  },
  {
   "cell_type": "code",
   "execution_count": 3,
   "metadata": {},
   "outputs": [],
   "source": [
    "USER_STUDY_AVERAGES = {\n",
    "    \"Amp\": [8.020304569, 7.634517766, 7.492385787, 7.558375635, 7.497461929, 7.182741117],\n",
    "    \"Clipping\": [7.421319797, 7.162436548, 7.335025381, 6.92893401, 6.974619289],\n",
    "    \"Drop\": [7.903553299, 7.431472081, 7.456852792, 7.223350254, 7.07106599],\n",
    "    \"Frame\": [7.45177665, 7.416243655, 7.507614213, 7.507614213, 7.375634518], \n",
    "    \"HP\": [7.756345178, 7.553299492, 7.401015228, 7.324873096, 7.411167513], \n",
    "    \"LP\": [7.340101523, 7.182741117, 7.065989848, 7.131979695, 7.025380711], \n",
    "    \"Noise\": [7.223350254, 7.045685279, 7.025380711, 6.989847716, 6.837563452], \n",
    "    \"Scale\": [7.781725888, 7.335025381, 7.203045685]\n",
    "}"
   ]
  },
  {
   "cell_type": "code",
   "execution_count": 4,
   "metadata": {},
   "outputs": [],
   "source": [
    "def get_plot_title(DATASET_TYPE):\n",
    "    if (DATASET_TYPE == \"AAVE_UK\"):\n",
    "        return \"AAVE/UK Midlands English\"\n",
    "    elif (DATASET_TYPE == \"Nigeria_UK_Midlands\"):\n",
    "        return \"Nigerian English/UK Midlands English\"\n",
    "    else: return DATASET_TYPE"
   ]
  },
  {
   "cell_type": "code",
   "execution_count": 5,
   "metadata": {},
   "outputs": [
    {
     "name": "stdout",
     "output_type": "stream",
     "text": [
      "['Male', 'Female']\n"
     ]
    }
   ],
   "source": [
    "def get_groups(dataset_type = DATASET_TYPE):\n",
    "    if dataset_type == DATASET_TYPES[0]:\n",
    "        return ['AAVE', 'UK Midlands English']\n",
    "    \n",
    "    elif dataset_type == DATASET_TYPES[1]:\n",
    "        return ['Male', 'Female']\n",
    "    \n",
    "    if dataset_type == DATASET_TYPES[3]:\n",
    "        return ['UK Midlands English', 'Nigerian English']\n",
    "    \n",
    "    else:\n",
    "        return ['English', 'Ganda', 'French', 'Gujarati', 'Indonesian' ,'Korean', 'Russian']\n",
    "    \n",
    "GROUPS = get_groups()\n",
    "print(GROUPS)"
   ]
  },
  {
   "cell_type": "code",
   "execution_count": 6,
   "metadata": {},
   "outputs": [],
   "source": [
    "def get_filename_filler(dataset_type = DATASET_TYPE):\n",
    "    if dataset_type == \"Accents\":\n",
    "        return \" Differential Speech Results - \"\n",
    "    elif dataset_type == \"Nigeria_UK_Midlands\":\n",
    "        return \" Nigeria_UK Midlands - \"\n",
    "    else: \n",
    "        return \" - \" "
   ]
  },
  {
   "cell_type": "code",
   "execution_count": 7,
   "metadata": {},
   "outputs": [],
   "source": [
    "def get_file_data(asr_type, transformation_type):\n",
    "    file_name = DATASET_TYPE + \"/\" + asr_type + \"/\" + asr_type + \\\n",
    "    get_filename_filler() + transformation_type + \".csv\"\n",
    "    with open(file_name, newline='') as csvfile:\n",
    "        reader = csv.reader(csvfile, delimiter=',')\n",
    "        file_arr = list(reader)\n",
    "    return file_arr, transformation_type, asr_type"
   ]
  },
  {
   "cell_type": "code",
   "execution_count": 8,
   "metadata": {},
   "outputs": [],
   "source": [
    "def get_diff_rows_range(transformation_type = TRANSFORMATION_TYPES[0], \n",
    "                        threshold = COMPREHENSIBILITY_THRESHOLD):\n",
    "    rows_range = []\n",
    "    if (transformation_type == \"Amp\"):\n",
    "        base = 12\n",
    "    else:\n",
    "        base = 11\n",
    "    for i, val in enumerate(USER_STUDY_AVERAGES[transformation_type]):\n",
    "        if val > threshold:\n",
    "            rows_range.append(i + base)\n",
    "    return rows_range\n",
    "\n",
    "# get_diff_rows_range(\"HP\", threshold = 7.4)"
   ]
  },
  {
   "cell_type": "code",
   "execution_count": 9,
   "metadata": {},
   "outputs": [],
   "source": [
    "def process_num_arr(num_arr):\n",
    "    tag = str(num_arr[0])\n",
    "    num_arr = num_arr[1:len(num_arr)]\n",
    "    return [float(i) for i in num_arr], tag"
   ]
  },
  {
   "cell_type": "code",
   "execution_count": 10,
   "metadata": {},
   "outputs": [],
   "source": [
    "def get_relevant_rows(file_data, transformation_type = TRANSFORMATION_TYPES[0]):\n",
    "    diff_rows = get_diff_rows_range(transformation_type)\n",
    "    row_arr, tag_arr = [], []\n",
    "    for i in diff_rows:\n",
    "        row, tag = process_num_arr(file_data[i - 1])\n",
    "        row_arr.append(row)\n",
    "        tag_arr.append(tag)\n",
    "    return row_arr, tag_arr"
   ]
  },
  {
   "cell_type": "code",
   "execution_count": 11,
   "metadata": {},
   "outputs": [],
   "source": [
    "def get_formatted_diff_data(asr_type, transformation_type):\n",
    "    file, _ , _  = get_file_data(asr_type = asr_type, transformation_type = transformation_type)\n",
    "#     row_arr, tag_arr = get_relevant_rows(file_data = file, transformation_type = trans_type)\n",
    "    row_arr, tag_arr = get_relevant_rows(file_data = file, transformation_type = transformation_type)\n",
    "#     for i, row in enumerate(row_arr):\n",
    "#         print(tag_arr[i], row)\n",
    "#     print()\n",
    "    return row_arr, tag_arr"
   ]
  },
  {
   "cell_type": "code",
   "execution_count": 12,
   "metadata": {},
   "outputs": [],
   "source": [
    "def get_top_threshold(threshold):\n",
    "#     [0.01, 0.05, 0.1, 0.15]\n",
    "    if (threshold == 0.01):\n",
    "        return 0.05\n",
    "    elif (threshold == 0.05):\n",
    "        return 0.1\n",
    "    elif (threshold == 0.1):\n",
    "        return 0.15\n",
    "    elif (threshold == 0.15):\n",
    "        return 1\n",
    "    else:\n",
    "        return 1"
   ]
  },
  {
   "cell_type": "code",
   "execution_count": 13,
   "metadata": {},
   "outputs": [],
   "source": [
    "def get_diffs_data(asr_type, transformation_type, languages = GROUPS, \n",
    "                   get_unique_errors = GET_UNIQUE_ERRORS):\n",
    "    row_arr, tag_arr = get_formatted_diff_data(asr_type, transformation_type)\n",
    "    \n",
    "    row_diff_arr = []\n",
    "    \n",
    "    if (not get_unique_errors):\n",
    "        top_threshold = 1.1\n",
    "    else:\n",
    "        top_threshold = get_top_threshold(threshold)\n",
    "    \n",
    "    for row in row_arr:\n",
    "        diff_arr = []\n",
    "        for base_gr in range(len(row)):\n",
    "            errors = 0\n",
    "            for comp_gr in range(len(row)):\n",
    "                diff = row[base_gr] - row[comp_gr]\n",
    "                diff_arr.append(diff)\n",
    "        row_diff_arr.extend(diff_arr)\n",
    "            \n",
    "    return row_diff_arr, tag_arr\n",
    "            \n",
    "            \n",
    "        "
   ]
  },
  {
   "cell_type": "code",
   "execution_count": 14,
   "metadata": {},
   "outputs": [],
   "source": [
    "class error_data_nugget:\n",
    "    def __init__(self, asr_type, transformation_type, diff_arr):\n",
    "        self.asr_type = asr_type\n",
    "        self.transformation_type = transformation_type\n",
    "        self.diff_arr = diff_arr"
   ]
  },
  {
   "cell_type": "code",
   "execution_count": 15,
   "metadata": {},
   "outputs": [],
   "source": [
    "error_data_nuggets = []\n",
    "\n",
    "for asr_type in ASR_TYPES:\n",
    "    sum_rows = []\n",
    "    for trans_type in TRANSFORMATION_TYPES:\n",
    "        row_diff_arr, tag_arr = get_diffs_data(asr_type, trans_type)\n",
    "        error_data_nuggets.append(error_data_nugget(asr_type, trans_type, row_diff_arr))  \n"
   ]
  },
  {
   "cell_type": "code",
   "execution_count": 16,
   "metadata": {},
   "outputs": [],
   "source": [
    "def get_asr_type_data_subset(error_data_nuggets, asr_type = \"MS_IBM\"):\n",
    "    error_data_nuggets_subsets = []\n",
    "    for data in error_data_nuggets:\n",
    "        if data.asr_type == asr_type:\n",
    "            error_data_nuggets_subsets.append(data)\n",
    "    return error_data_nuggets_subsets"
   ]
  },
  {
   "cell_type": "code",
   "execution_count": 17,
   "metadata": {},
   "outputs": [],
   "source": [
    "def get_asr_gr_type_subset(error_data_nuggets, gr_val = 0):\n",
    "    error_data_nuggets_subsets = []\n",
    "    for data in error_data_nuggets:\n",
    "        error_data_nuggets_subsets.append(error_data_nugget(data.tau, data.asr_type, 'ALL', [data.error_sum_row[gr_val]]))\n",
    "    return error_data_nuggets_subsets"
   ]
  },
  {
   "cell_type": "code",
   "execution_count": 18,
   "metadata": {},
   "outputs": [],
   "source": [
    "def get_asr_tr_type_subset(error_data_nuggets, tr_type = \"Noise\"):\n",
    "    error_data_nuggets_subsets = []\n",
    "    \n",
    "    for data in error_data_nuggets:\n",
    "        if data.transformation_type == tr_type:\n",
    "            error_data_nuggets_subsets.append(data)    \n",
    "    return error_data_nuggets_subsets"
   ]
  },
  {
   "cell_type": "code",
   "execution_count": 19,
   "metadata": {},
   "outputs": [],
   "source": [
    "def get_single_arr_dist(error_data_nuggets, thresh = -100000):\n",
    "    single_arr_dist = []\n",
    "    for error_data_nugget in error_data_nuggets:\n",
    "#         print(error_data_nugget.asr_type, error_data_nugget.transformation_type, error_data_nugget.diff_arr)\n",
    "        single_arr_dist.extend(error_data_nugget.diff_arr)\n",
    "    return [i for i in single_arr_dist if i > thresh]"
   ]
  },
  {
   "cell_type": "code",
   "execution_count": 20,
   "metadata": {},
   "outputs": [],
   "source": [
    "# # for error_data_nugget in error_data_nuggets:\n",
    "# #     print(error_data_nugget.asr_type, error_data_nugget.transformation_type, error_data_nugget.diff_arr)\n",
    "# print(get_single_arr_dist(error_data_nuggets))"
   ]
  },
  {
   "cell_type": "code",
   "execution_count": 21,
   "metadata": {},
   "outputs": [
    {
     "data": {
      "image/png": "[encoded data removed]",
      "text/plain": [
       "<Figure size 432x288 with 1 Axes>"
      ]
     },
     "metadata": {
      "needs_background": "light"
     },
     "output_type": "display_data"
    }
   ],
   "source": [
    "n_bins = 20\n",
    "plt.hist(get_single_arr_dist(error_data_nuggets, thresh=0), bins=n_bins)\n",
    "plt.title(\"All D values\\n\" + get_plot_title(DATASET_TYPE))\n",
    "# plt.xticks(arange(len(AlphaNum)),AlphaNum)\n",
    "plt.show()"
   ]
  },
  {
   "cell_type": "code",
   "execution_count": 22,
   "metadata": {},
   "outputs": [
    {
     "data": {
      "image/png": "[encoded data removed]",
      "text/plain": [
       "<Figure size 432x288 with 1 Axes>"
      ]
     },
     "metadata": {
      "needs_background": "light"
     },
     "output_type": "display_data"
    },
    {
     "data": {
      "image/png": "[encoded data removed]",
      "text/plain": [
       "<Figure size 432x288 with 1 Axes>"
      ]
     },
     "metadata": {
      "needs_background": "light"
     },
     "output_type": "display_data"
    },
    {
     "data": {
      "image/png": "[encoded data removed]",
      "text/plain": [
       "<Figure size 432x288 with 1 Axes>"
      ]
     },
     "metadata": {
      "needs_background": "light"
     },
     "output_type": "display_data"
    }
   ],
   "source": [
    "n_bins = 20\n",
    "for i, asr_type in enumerate(ASR_TYPES):\n",
    "    error_data_nuggets_subset = get_asr_type_data_subset(error_data_nuggets, asr_type = asr_type)\n",
    "    plt.hist(get_single_arr_dist(error_data_nuggets_subset, thresh=0), bins=n_bins)\n",
    "    plt.title(\"D values for: \" + asr_type + \"\\n\" + get_plot_title(DATASET_TYPE))\n",
    "    plt.ylim(top=300)\n",
    "    plt.xlim(right=0.5)\n",
    "    plt.show()"
   ]
  },
  {
   "cell_type": "code",
   "execution_count": 23,
   "metadata": {},
   "outputs": [
    {
     "data": {
      "image/png": "[encoded data removed]",
      "text/plain": [
       "<Figure size 432x288 with 1 Axes>"
      ]
     },
     "metadata": {
      "needs_background": "light"
     },
     "output_type": "display_data"
    },
    {
     "data": {
      "image/png": "[encoded data removed]",
      "text/plain": [
       "<Figure size 432x288 with 1 Axes>"
      ]
     },
     "metadata": {
      "needs_background": "light"
     },
     "output_type": "display_data"
    },
    {
     "data": {
      "image/png": "[encoded data removed]",
      "text/plain": [
       "<Figure size 432x288 with 1 Axes>"
      ]
     },
     "metadata": {
      "needs_background": "light"
     },
     "output_type": "display_data"
    },
    {
     "data": {
      "image/png": "[encoded data removed]",
      "text/plain": [
       "<Figure size 432x288 with 1 Axes>"
      ]
     },
     "metadata": {
      "needs_background": "light"
     },
     "output_type": "display_data"
    },
    {
     "data": {
      "image/png": "[encoded data removed]",
      "text/plain": [
       "<Figure size 432x288 with 1 Axes>"
      ]
     },
     "metadata": {
      "needs_background": "light"
     },
     "output_type": "display_data"
    },
    {
     "data": {
      "image/png": "[encoded data removed]",
      "text/plain": [
       "<Figure size 432x288 with 1 Axes>"
      ]
     },
     "metadata": {
      "needs_background": "light"
     },
     "output_type": "display_data"
    },
    {
     "data": {
      "image/png": "[encoded data removed]",
      "text/plain": [
       "<Figure size 432x288 with 1 Axes>"
      ]
     },
     "metadata": {
      "needs_background": "light"
     },
     "output_type": "display_data"
    },
    {
     "data": {
      "image/png": "[encoded data removed]",
      "text/plain": [
       "<Figure size 432x288 with 1 Axes>"
      ]
     },
     "metadata": {
      "needs_background": "light"
     },
     "output_type": "display_data"
    }
   ],
   "source": [
    "n_bins = 20\n",
    "for i, trans_type in enumerate(TRANSFORMATION_TYPES):\n",
    "    error_data_nuggets_subset = get_asr_tr_type_subset(error_data_nuggets, tr_type = trans_type)\n",
    "    plt.hist(get_single_arr_dist(error_data_nuggets_subset, thresh=0), bins=n_bins)\n",
    "    plt.title(\"D values for: \" + trans_type + \"\\n\" + get_plot_title(DATASET_TYPE))\n",
    "    plt.ylim(top=100)\n",
    "    plt.xlim(right=0.5)\n",
    "\n",
    "    plt.show()"
   ]
  },
  {
   "cell_type": "code",
   "execution_count": null,
   "metadata": {},
   "outputs": [],
   "source": []
  }
 ],
 "metadata": {
  "kernelspec": {
   "display_name": "Python 3",
   "language": "python",
   "name": "python3"
  },
  "language_info": {
   "codemirror_mode": {
    "name": "ipython",
    "version": 3
   },
   "file_extension": ".py",
   "mimetype": "text/x-python",
   "name": "python",
   "nbconvert_exporter": "python",
   "pygments_lexer": "ipython3",
   "version": "3.7.3"
  }
 },
 "nbformat": 4,
 "nbformat_minor": 4
}
