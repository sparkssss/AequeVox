{
 "cells": [
  {
   "cell_type": "code",
   "execution_count": 1,
   "metadata": {},
   "outputs": [],
   "source": [
    "import csv\n",
    "import matplotlib.pyplot as plt\n",
    "from matplotlib import transforms\n",
    "import numpy as np\n",
    "import copy"
   ]
  },
  {
   "cell_type": "code",
   "execution_count": 2,
   "metadata": {},
   "outputs": [],
   "source": [
    "DATASET_TYPES = [\"AAVE_UK\", \"RAVDESS\", \"Accents\"]\n",
    "\n",
    "DATASET_TYPE_VAL = 1\n",
    "\n",
    "DATASET_TYPE = DATASET_TYPES[DATASET_TYPE_VAL]\n",
    "\n",
    "ASR_TYPES = [\"MS_IBM\", \"GCP_IBM\", \"MS_GCP\"]\n",
    "\n",
    "TRANSFORMATION_TYPES = [\"Amp\", \"Clipping\", \"Drop\", \"Frame\", \"HP\", \"LP\", \"Noise\", \"Scale\"]\n",
    "\n",
    "GROUPS = ['Male', 'Female']\n",
    "\n",
    "# SAVE_FOLDER = \"/Users/sakshiudeshi/Documents/SUTD/Research/LaTeX/speechPaper/figs/\"\n",
    "SAVE_FOLDER = \"Saved_Imgs/\""
   ]
  },
  {
   "cell_type": "code",
   "execution_count": 3,
   "metadata": {},
   "outputs": [
    {
     "name": "stdout",
     "output_type": "stream",
     "text": [
      "['Male', 'Female']\n"
     ]
    }
   ],
   "source": [
    "def get_groups(dataset_type = DATASET_TYPE):\n",
    "    if dataset_type == DATASET_TYPES[0]:\n",
    "        return ['AAVE', 'Midlands']\n",
    "    \n",
    "    elif dataset_type == DATASET_TYPES[1]:\n",
    "        return ['Male', 'Female']\n",
    "    \n",
    "    else:\n",
    "        return ['English', 'Ganda', 'French', 'Gujarati', 'Indonesian' ,'Korean', 'Russian']\n",
    "    \n",
    "GROUPS = get_groups()\n",
    "print(GROUPS)"
   ]
  },
  {
   "cell_type": "code",
   "execution_count": 4,
   "metadata": {},
   "outputs": [],
   "source": [
    "def get_filename_filler(dataset_type = DATASET_TYPE):\n",
    "    if dataset_type == \"Accents\":\n",
    "        return \" Differential Speech Results - \"\n",
    "    else: \n",
    "        return \" - \" "
   ]
  },
  {
   "cell_type": "code",
   "execution_count": 5,
   "metadata": {},
   "outputs": [],
   "source": [
    "def get_file_data(asr_type, transformation_type):\n",
    "    file_name = DATASET_TYPE + \"/\" + asr_type + \"/\" + asr_type + \\\n",
    "    get_filename_filler() + transformation_type + \".csv\"\n",
    "    with open(file_name, newline='') as csvfile:\n",
    "        reader = csv.reader(csvfile, delimiter=',')\n",
    "        file_arr = list(reader)\n",
    "    return file_arr, transformation_type, asr_type"
   ]
  },
  {
   "cell_type": "code",
   "execution_count": 6,
   "metadata": {},
   "outputs": [],
   "source": [
    "def get_diff_rows_range(transformation_type = TRANSFORMATION_TYPES[0]):\n",
    "    if (transformation_type == \"Amp\"):\n",
    "        return list(range(12, 18))\n",
    "    elif (transformation_type == \"Scale\"):\n",
    "        return list(range(11, 14))\n",
    "    else:\n",
    "        return list(range(11, 16))"
   ]
  },
  {
   "cell_type": "code",
   "execution_count": 7,
   "metadata": {},
   "outputs": [],
   "source": [
    "# def get_orig_wer_rows_range(transformation_type = TRANSFORMATION_TYPES[0]):\n",
    "#     if (transformation_type == \"Amp\"):\n",
    "#         return [9]\n",
    "#     else:\n",
    "#         return [8]"
   ]
  },
  {
   "cell_type": "code",
   "execution_count": 8,
   "metadata": {},
   "outputs": [],
   "source": [
    "def process_num_arr(num_arr):\n",
    "    tag = str(num_arr[0])\n",
    "    num_arr = num_arr[1:len(num_arr)]\n",
    "    return [float(i) for i in num_arr], tag"
   ]
  },
  {
   "cell_type": "code",
   "execution_count": 9,
   "metadata": {},
   "outputs": [],
   "source": [
    "def get_relevant_rows(file_data, transformation_type = TRANSFORMATION_TYPES[0]):\n",
    "    diff_rows = get_diff_rows_range(transformation_type)\n",
    "    row_arr, tag_arr = [], []\n",
    "    for i in diff_rows:\n",
    "        row, tag = process_num_arr(file_data[i - 1])\n",
    "        row_arr.append(row)\n",
    "        tag_arr.append(tag)\n",
    "    return row_arr, tag_arr"
   ]
  },
  {
   "cell_type": "code",
   "execution_count": 10,
   "metadata": {},
   "outputs": [],
   "source": [
    "# def get_original_wer(asr_type, transformation_type = TRANSFORMATION_TYPES[0]):\n",
    "#     file_data, _, _ = get_file_data(asr_type, transformation_type)\n",
    "#     diff_rows = get_orig_wer_rows_range(transformation_type)\n",
    "#     row_arr, tag_arr = [], []\n",
    "# #     print(file_data)\n",
    "#     for i in diff_rows:\n",
    "#         row, tag = process_num_arr(file_data[i - 1])\n",
    "#         row_arr.append(row)\n",
    "#         tag_arr.append(tag)\n",
    "#     return row_arr, tag_arr"
   ]
  },
  {
   "cell_type": "code",
   "execution_count": 11,
   "metadata": {},
   "outputs": [],
   "source": [
    "def get_formatted_diff_data(asr_type, transformation_type):\n",
    "    file, _ , _  = get_file_data(asr_type = asr_type, transformation_type = transformation_type)\n",
    "    row_arr, tag_arr = get_relevant_rows(file_data = file, transformation_type = trans_type)\n",
    "#     for i, row in enumerate(row_arr):\n",
    "#         print(tag_arr[i], row)\n",
    "#     print()\n",
    "    return row_arr, tag_arr"
   ]
  },
  {
   "cell_type": "code",
   "execution_count": 12,
   "metadata": {},
   "outputs": [],
   "source": [
    "def get_error_data(asr_type, transformation_type, threshold = 0.1, languages = GROUPS):\n",
    "    row_arr, tag_arr = get_formatted_diff_data(asr_type, transformation_type)\n",
    "    \n",
    "    row_error_arr = []\n",
    "    \n",
    "    for row in row_arr:\n",
    "        error_arr = []\n",
    "        for base_gr in range(len(row)):\n",
    "            errors = 0\n",
    "            for comp_gr in range(len(row)):\n",
    "#                 print(base_gr , comp_gr)\n",
    "                if(row[base_gr] - row[comp_gr] > threshold):\n",
    "                     errors += 1\n",
    "            error_arr.append(errors)\n",
    "        row_error_arr.append(error_arr)\n",
    "            \n",
    "    return row_error_arr, tag_arr\n",
    "            \n",
    "            \n",
    "        "
   ]
  },
  {
   "cell_type": "code",
   "execution_count": 13,
   "metadata": {},
   "outputs": [],
   "source": [
    "def get_error_sums(row_error_arr):\n",
    "    error_sum_arr = []\n",
    "    for j in range(len(row_error_arr[0])):\n",
    "        error_sum = 0\n",
    "        for i in range(len(row_error_arr)):\n",
    "            error_sum += row_error_arr[i][j]\n",
    "        error_sum_arr.append(error_sum)\n",
    "    return error_sum_arr"
   ]
  },
  {
   "cell_type": "code",
   "execution_count": 14,
   "metadata": {},
   "outputs": [],
   "source": [
    "class error_data_nugget:\n",
    "    def __init__(self, tau, asr_type, transformation_type, error_row):\n",
    "        self.tau = tau\n",
    "        self.asr_type = asr_type\n",
    "        self.transformation_type = transformation_type\n",
    "        self.error_row = error_row"
   ]
  },
  {
   "cell_type": "code",
   "execution_count": 15,
   "metadata": {},
   "outputs": [],
   "source": [
    "def get_sum_error_data_nuggets():\n",
    "    error_data_nuggets = []\n",
    "    for tau in [0.01, 0.05, 0.1, 0.15]:\n",
    "#         print(['Tau ' + str(tau)] )\n",
    "        for asr_type in ASR_TYPES:\n",
    "            sum_rows = []\n",
    "            for trans_type in TRANSFORMATION_TYPES:\n",
    "                row_error_arr, tag_arr = get_error_data(asr_type, trans_type, threshold=tau)\n",
    "\n",
    "                sum_rows.append(get_error_sums(row_error_arr))\n",
    "\n",
    "    #         for i, row_error in enumerate(sum_rows):\n",
    "    #             print([''] + row_error)  \n",
    "    #         print(\"-----------\")\n",
    "            error_sum_row = get_error_sums(sum_rows)\n",
    "            error_data_nuggets.append(error_data_nugget(tau, asr_type, 'ALL', error_sum_row)) \n",
    "            \n",
    "    return error_data_nuggets"
   ]
  },
  {
   "cell_type": "code",
   "execution_count": 16,
   "metadata": {},
   "outputs": [],
   "source": [
    "def get_data_nugget_sums(error_data_nuggets):\n",
    "    row_error_arr = []\n",
    "    for nugget in error_data_nuggets:\n",
    "        row_error_arr.append(nugget.error_row)\n",
    "    return get_error_sums(row_error_arr)"
   ]
  },
  {
   "cell_type": "code",
   "execution_count": 17,
   "metadata": {},
   "outputs": [],
   "source": [
    "error_data_nuggets = []\n",
    "for tau in [0.01, 0.05, 0.1, 0.15]:\n",
    "#     print(['Tau ' + str(tau)] )\n",
    "    for asr_type in ASR_TYPES:\n",
    "        sum_rows = []\n",
    "        for trans_type in TRANSFORMATION_TYPES:\n",
    "            row_error_arr, tag_arr = get_error_data(asr_type, trans_type, threshold=tau)\n",
    "            error_data_nuggets.append(error_data_nugget(tau, asr_type, trans_type, get_error_sums(row_error_arr)))  \n",
    "\n",
    "#             sum_rows.append(get_error_sums(row_error_arr))\n",
    "            \n",
    "#         for i, row_error in enumerate(sum_rows):\n",
    "#             print([''] + row_error)  \n",
    "#         print(\"-----------\")\n",
    "#         error_sum_row = get_error_sums(sum_rows) \n",
    "        \n",
    "# error_data_nuggets = get_sum_error_data_nuggets()"
   ]
  },
  {
   "cell_type": "code",
   "execution_count": 18,
   "metadata": {},
   "outputs": [],
   "source": [
    "def get_tau_data_subset(error_data_nuggets, tau = 0.01):\n",
    "    error_data_nuggets_subsets = []\n",
    "    for data in error_data_nuggets:\n",
    "        if data.tau == tau:\n",
    "            error_data_nuggets_subsets.append(data)\n",
    "    return error_data_nuggets_subsets"
   ]
  },
  {
   "cell_type": "code",
   "execution_count": 19,
   "metadata": {},
   "outputs": [],
   "source": [
    "def get_asr_type_data_subset(error_data_nuggets, asr_type = \"MS_IBM\"):\n",
    "    error_data_nuggets_subsets = []\n",
    "    for data in error_data_nuggets:\n",
    "        if data.asr_type == asr_type:\n",
    "            error_data_nuggets_subsets.append(data)\n",
    "    return error_data_nuggets_subsets"
   ]
  },
  {
   "cell_type": "code",
   "execution_count": 20,
   "metadata": {},
   "outputs": [],
   "source": [
    "def get_asr_gr_type_subset(error_data_nuggets, gr_val = 0):\n",
    "    error_data_nuggets_subsets = []\n",
    "    for data in error_data_nuggets:\n",
    "        error_data_nuggets_subsets.append(error_data_nugget(data.tau, data.asr_type, 'ALL', [data.error_sum_row[gr_val]]))\n",
    "    return error_data_nuggets_subsets"
   ]
  },
  {
   "cell_type": "code",
   "execution_count": 21,
   "metadata": {},
   "outputs": [],
   "source": [
    "def get_asr_tr_type_subset(error_data_nuggets, tr_type = \"Noise\"):\n",
    "    error_data_nuggets_subsets = []\n",
    "    \n",
    "    for data in error_data_nuggets:\n",
    "        if data.transformation_type == tr_type:\n",
    "            error_data_nuggets_subsets.append(data)    \n",
    "    return error_data_nuggets_subsets"
   ]
  },
  {
   "cell_type": "code",
   "execution_count": 22,
   "metadata": {},
   "outputs": [],
   "source": [
    "def autolabel(rects, dataset_type = DATASET_TYPE):\n",
    "    \n",
    "    \n",
    "    \"\"\"\n",
    "    Attach a text label above each bar displaying its height\n",
    "    \"\"\"\n",
    "    for rect in rects:\n",
    "        height = rect.get_height()\n",
    "        if dataset_type == DATASET_TYPES[0]:\n",
    "            text_height = height + max(0.02*height, 0.5)\n",
    "    \n",
    "        elif dataset_type == DATASET_TYPES[1]:\n",
    "            text_height = height + max(0.02*height, 0.5)\n",
    "\n",
    "        else:\n",
    "            text_height = height + max(0.02*height, 3)\n",
    "            \n",
    "        ax.text(rect.get_x() + rect.get_width()/2., text_height,\n",
    "                '%d' % int(height),\n",
    "                ha='center', va='bottom', rotation=\"vertical\")"
   ]
  },
  {
   "cell_type": "code",
   "execution_count": 23,
   "metadata": {},
   "outputs": [],
   "source": [
    "def get_percentages(sum_arrs, base_gr = 0):\n",
    "    p_sum_arrs = []\n",
    "    for sum_arr in sum_arrs:\n",
    "        p_sum_arr = []\n",
    "        for i, val in enumerate(sum_arr):\n",
    "            if i != base_gr:\n",
    "                p_sum_arr.append(( val - sum_arr[base_gr]) * 100/sum_arr[base_gr])\n",
    "        p_sum_arrs.append(p_sum_arr)\n",
    "        \n",
    "    return p_sum_arrs"
   ]
  },
  {
   "cell_type": "code",
   "execution_count": 24,
   "metadata": {},
   "outputs": [
    {
     "data": {
      "image/png": "[encoded data removed]",
      "text/plain": [
       "<Figure size 720x720 with 1 Axes>"
      ]
     },
     "metadata": {
      "needs_background": "light"
     },
     "output_type": "display_data"
    }
   ],
   "source": [
    "# All Errors plots\n",
    "width = 0.5\n",
    "# spacing = 0.2\n",
    "colors = ['r', 'g', 'b', 'y']\n",
    "tau_vals = [0.01, 0.05, 0.1, 0.15]\n",
    "step_size = 1\n",
    "\n",
    "\n",
    "fig = plt.figure(figsize=(10, 10))\n",
    "ax = fig.add_subplot(111)\n",
    "\n",
    "N = len(GROUPS)\n",
    "ind = np.arange(N * step_size, step = step_size) \n",
    "# print(ind + width*i)\n",
    "\n",
    "rects = []\n",
    "\n",
    "sum_arrs = []\n",
    "error_data_nuggets_subset = copy.deepcopy(error_data_nuggets)\n",
    "sum_arr = (get_data_nugget_sums(error_data_nuggets_subset))\n",
    "sum_arrs.append(sum_arr)\n",
    "\n",
    "# print(sum_arrs)\n",
    "    \n",
    "rects.append(ax.bar(ind + width, sum_arr, width = width, color=colors[0]))\n",
    "#     plt.bar(LANGUAGES, sum_arr)\n",
    "\n",
    "\n",
    "for rect in rects:\n",
    "    autolabel(rect)\n",
    "    \n",
    "plt.ylim(top = np.max(sum_arrs) * 1.1)\n",
    "\n",
    "\n",
    "\n",
    "# ax.legend((rect for rect in rects), (tau_val for tau_val in tau_vals))\n",
    "ax.set_xticks(ind + width *1)\n",
    "ax.set_xticklabels(GROUPS)\n",
    "ax.set_ylabel('Errors')\n",
    "\n",
    "plt.title (\"All Errors\\n\" + DATASET_TYPE)\n",
    "plt.savefig(SAVE_FOLDER + DATASET_TYPE + \"-Total-Errors\",bbox='tight', dpi=300)\n",
    "plt.show()\n"
   ]
  },
  {
   "cell_type": "code",
   "execution_count": 25,
   "metadata": {},
   "outputs": [
    {
     "name": "stdout",
     "output_type": "stream",
     "text": [
      "150.7096171802054\n",
      "[188.88888888888889, 188.23529411764707, 140.0, 85.71428571428571]\n",
      "188.88888888888889\n",
      "[188.88888888888889]\n",
      "[188.23529411764707]\n",
      "[140.0]\n",
      "[85.71428571428571]\n"
     ]
    },
    {
     "data": {
      "image/png": "[encoded data removed]",
      "text/plain": [
       "<Figure size 720x720 with 1 Axes>"
      ]
     },
     "metadata": {
      "needs_background": "light"
     },
     "output_type": "display_data"
    }
   ],
   "source": [
    "## Tau vary plots\n",
    "width = 0.25\n",
    "# spacing = 0.2\n",
    "colors = ['r', 'g', 'b', 'y']\n",
    "tau_vals = [0.01, 0.05, 0.1, 0.15]\n",
    "step_size = 1.5\n",
    "num_offset = 0.2\n",
    "\n",
    "\n",
    "fig = plt.figure(figsize=(10, 10))\n",
    "ax = fig.add_subplot(111)\n",
    "\n",
    "N = len(GROUPS)\n",
    "ind = np.arange(N * step_size, step = step_size) \n",
    "# print(ind + width*i)\n",
    "\n",
    "rects = []\n",
    "\n",
    "sum_arrs = []\n",
    "for i, tau_val in enumerate(tau_vals):\n",
    "#     print(i)\n",
    "    error_data_nuggets_subset = get_tau_data_subset(error_data_nuggets, tau = tau_val)\n",
    "    sum_arr = (get_data_nugget_sums(error_data_nuggets_subset))\n",
    "    sum_arrs.append(sum_arr)\n",
    "    rects.append(ax.bar(ind + width*i, sum_arr, width = width, color=colors[i]))\n",
    "#     ax.text(ind + width*i, sum_arr + num_offset , \"5\")\n",
    "#     plt.bar(GROUPS, sum_arr)\n",
    "\n",
    "print(np.mean (get_percentages(sum_arrs)))\n",
    "print([np.mean(p_sum_arr) for p_sum_arr in get_percentages(sum_arrs)])\n",
    "print(np.max(get_percentages(sum_arrs)))\n",
    "for p_sum_arr in get_percentages(sum_arrs):\n",
    "    print(p_sum_arr)\n",
    "\n",
    "plt.ylim(top = np.max(sum_arrs) *1.1)\n",
    "\n",
    "\n",
    "for rect in rects:\n",
    "    autolabel(rect)\n",
    "\n",
    "\n",
    "ax.legend((rect for rect in rects), (tau_val for tau_val in tau_vals))\n",
    "ax.set_xticks(ind + width * 1.5)\n",
    "ax.set_xticklabels( GROUPS)\n",
    "ax.set_ylabel('Errors')\n",
    "plt.title (\"τ Sensitivity\\n\" + DATASET_TYPE)\n",
    "plt.savefig(SAVE_FOLDER + DATASET_TYPE + \"-Tau-Errors\",bbox='tight', dpi=300)\n",
    "\n",
    "plt.show()\n"
   ]
  },
  {
   "cell_type": "code",
   "execution_count": 26,
   "metadata": {},
   "outputs": [
    {
     "name": "stdout",
     "output_type": "stream",
     "text": [
      "361.1640211640211\n",
      "[(470.0, 'MS_IBM'), (611.1111111111111, 'GCP_IBM'), (2.380952380952381, 'MS_GCP')]\n",
      "611.1111111111111\n",
      "[470.0]\n",
      "[611.1111111111111]\n",
      "[2.380952380952381]\n"
     ]
    },
    {
     "data": {
      "image/png": "[encoded data removed]",
      "text/plain": [
       "<Figure size 720x720 with 1 Axes>"
      ]
     },
     "metadata": {
      "needs_background": "light"
     },
     "output_type": "display_data"
    }
   ],
   "source": [
    "## ASR_TYPE vary plots\n",
    "width = 0.25\n",
    "# spacing = 0.2\n",
    "colors = ['r', 'g', 'b', 'y']\n",
    "tau_vals = [0.01, 0.05, 0.1, 0.15]\n",
    "step_size = 1.5\n",
    "\n",
    "\n",
    "fig = plt.figure(figsize=(10, 10))\n",
    "ax = fig.add_subplot(111)\n",
    "\n",
    "N = len(GROUPS)\n",
    "ind = np.arange(N * step_size, step = step_size) \n",
    "# print(ind + width*i)\n",
    "\n",
    "rects = []\n",
    "\n",
    "sum_arrs = []\n",
    "for i, asr_type in enumerate(ASR_TYPES):\n",
    "    error_data_nuggets_subset = get_asr_type_data_subset(error_data_nuggets, asr_type = asr_type)\n",
    "    sum_arr = (get_data_nugget_sums(error_data_nuggets_subset))\n",
    "    sum_arrs.append(sum_arr)\n",
    "\n",
    "# print(sum_arrs)\n",
    "    \n",
    "    rects.append(ax.bar(ind + width*i, sum_arr, width = width, color=colors[i]))\n",
    "#     plt.bar(GROUPS, sum_arr)\n",
    "\n",
    "for rect in rects:\n",
    "    autolabel(rect)\n",
    "    \n",
    "print(np.mean (get_percentages(sum_arrs)))\n",
    "print([(np.mean(p_sum_arr[0]), p_sum_arr[1]) for p_sum_arr in zip(get_percentages(sum_arrs), ASR_TYPES)])\n",
    "print(np.max(get_percentages(sum_arrs)))\n",
    "for p_sum_arr in get_percentages(sum_arrs):\n",
    "    print(p_sum_arr)\n",
    "    \n",
    "plt.ylim(top = np.max(sum_arrs) *1.1)\n",
    "\n",
    "\n",
    "\n",
    "ax.legend((rect for rect in rects), (asr_type for asr_type in ASR_TYPES))\n",
    "ax.set_xticks(ind + width * 1)\n",
    "ax.set_xticklabels( GROUPS)\n",
    "ax.set_ylabel('Errors')\n",
    "plt.title (\"ASR Sensitivity\\n\" + DATASET_TYPE)\n",
    "plt.savefig(SAVE_FOLDER + DATASET_TYPE + \"-ASRErrors\",bbox='tight', dpi=300)\n",
    "\n",
    "plt.show()\n"
   ]
  },
  {
   "cell_type": "code",
   "execution_count": 27,
   "metadata": {},
   "outputs": [
    {
     "name": "stdout",
     "output_type": "stream",
     "text": [
      "[0.5 2. ]\n"
     ]
    },
    {
     "ename": "ZeroDivisionError",
     "evalue": "division by zero",
     "output_type": "error",
     "traceback": [
      "\u001b[0;31m---------------------------------------------------------------------------\u001b[0m",
      "\u001b[0;31mZeroDivisionError\u001b[0m                         Traceback (most recent call last)",
      "\u001b[0;32m<ipython-input-27-c1ca090bc931>\u001b[0m in \u001b[0;36m<module>\u001b[0;34m\u001b[0m\n\u001b[1;32m     34\u001b[0m \u001b[0mplt\u001b[0m\u001b[0;34m.\u001b[0m\u001b[0mylim\u001b[0m\u001b[0;34m(\u001b[0m\u001b[0mtop\u001b[0m \u001b[0;34m=\u001b[0m \u001b[0mnp\u001b[0m\u001b[0;34m.\u001b[0m\u001b[0mmax\u001b[0m\u001b[0;34m(\u001b[0m\u001b[0msum_arrs\u001b[0m\u001b[0;34m)\u001b[0m \u001b[0;34m*\u001b[0m\u001b[0;36m1.1\u001b[0m\u001b[0;34m)\u001b[0m\u001b[0;34m\u001b[0m\u001b[0;34m\u001b[0m\u001b[0m\n\u001b[1;32m     35\u001b[0m \u001b[0;34m\u001b[0m\u001b[0m\n\u001b[0;32m---> 36\u001b[0;31m \u001b[0mprint\u001b[0m\u001b[0;34m(\u001b[0m\u001b[0mnp\u001b[0m\u001b[0;34m.\u001b[0m\u001b[0mmean\u001b[0m \u001b[0;34m(\u001b[0m\u001b[0mget_percentages\u001b[0m\u001b[0;34m(\u001b[0m\u001b[0msum_arrs\u001b[0m\u001b[0;34m)\u001b[0m\u001b[0;34m)\u001b[0m\u001b[0;34m)\u001b[0m\u001b[0;34m\u001b[0m\u001b[0;34m\u001b[0m\u001b[0m\n\u001b[0m\u001b[1;32m     37\u001b[0m \u001b[0mprint\u001b[0m\u001b[0;34m(\u001b[0m\u001b[0;34m[\u001b[0m\u001b[0;34m(\u001b[0m\u001b[0mnp\u001b[0m\u001b[0;34m.\u001b[0m\u001b[0mmean\u001b[0m\u001b[0;34m(\u001b[0m\u001b[0mp_sum_arr\u001b[0m\u001b[0;34m[\u001b[0m\u001b[0;36m0\u001b[0m\u001b[0;34m]\u001b[0m\u001b[0;34m)\u001b[0m\u001b[0;34m,\u001b[0m \u001b[0mp_sum_arr\u001b[0m\u001b[0;34m[\u001b[0m\u001b[0;36m1\u001b[0m\u001b[0;34m]\u001b[0m\u001b[0;34m)\u001b[0m \u001b[0;32mfor\u001b[0m \u001b[0mp_sum_arr\u001b[0m \u001b[0;32min\u001b[0m \u001b[0mzip\u001b[0m\u001b[0;34m(\u001b[0m\u001b[0mget_percentages\u001b[0m\u001b[0;34m(\u001b[0m\u001b[0msum_arrs\u001b[0m\u001b[0;34m)\u001b[0m\u001b[0;34m,\u001b[0m \u001b[0mTR_TYPES\u001b[0m\u001b[0;34m)\u001b[0m\u001b[0;34m]\u001b[0m\u001b[0;34m)\u001b[0m\u001b[0;34m\u001b[0m\u001b[0;34m\u001b[0m\u001b[0m\n\u001b[1;32m     38\u001b[0m \u001b[0mprint\u001b[0m\u001b[0;34m(\u001b[0m\u001b[0mnp\u001b[0m\u001b[0;34m.\u001b[0m\u001b[0mmax\u001b[0m\u001b[0;34m(\u001b[0m\u001b[0mget_percentages\u001b[0m\u001b[0;34m(\u001b[0m\u001b[0msum_arrs\u001b[0m\u001b[0;34m)\u001b[0m\u001b[0;34m)\u001b[0m\u001b[0;34m)\u001b[0m\u001b[0;34m\u001b[0m\u001b[0;34m\u001b[0m\u001b[0m\n",
      "\u001b[0;32m<ipython-input-23-6cdc88c21cae>\u001b[0m in \u001b[0;36mget_percentages\u001b[0;34m(sum_arrs, base_gr)\u001b[0m\n\u001b[1;32m      5\u001b[0m         \u001b[0;32mfor\u001b[0m \u001b[0mi\u001b[0m\u001b[0;34m,\u001b[0m \u001b[0mval\u001b[0m \u001b[0;32min\u001b[0m \u001b[0menumerate\u001b[0m\u001b[0;34m(\u001b[0m\u001b[0msum_arr\u001b[0m\u001b[0;34m)\u001b[0m\u001b[0;34m:\u001b[0m\u001b[0;34m\u001b[0m\u001b[0;34m\u001b[0m\u001b[0m\n\u001b[1;32m      6\u001b[0m             \u001b[0;32mif\u001b[0m \u001b[0mi\u001b[0m \u001b[0;34m!=\u001b[0m \u001b[0mbase_gr\u001b[0m\u001b[0;34m:\u001b[0m\u001b[0;34m\u001b[0m\u001b[0;34m\u001b[0m\u001b[0m\n\u001b[0;32m----> 7\u001b[0;31m                 \u001b[0mp_sum_arr\u001b[0m\u001b[0;34m.\u001b[0m\u001b[0mappend\u001b[0m\u001b[0;34m(\u001b[0m\u001b[0;34m(\u001b[0m \u001b[0mval\u001b[0m \u001b[0;34m-\u001b[0m \u001b[0msum_arr\u001b[0m\u001b[0;34m[\u001b[0m\u001b[0mbase_gr\u001b[0m\u001b[0;34m]\u001b[0m\u001b[0;34m)\u001b[0m \u001b[0;34m*\u001b[0m \u001b[0;36m100\u001b[0m\u001b[0;34m/\u001b[0m\u001b[0msum_arr\u001b[0m\u001b[0;34m[\u001b[0m\u001b[0mbase_gr\u001b[0m\u001b[0;34m]\u001b[0m\u001b[0;34m)\u001b[0m\u001b[0;34m\u001b[0m\u001b[0;34m\u001b[0m\u001b[0m\n\u001b[0m\u001b[1;32m      8\u001b[0m         \u001b[0mp_sum_arrs\u001b[0m\u001b[0;34m.\u001b[0m\u001b[0mappend\u001b[0m\u001b[0;34m(\u001b[0m\u001b[0mp_sum_arr\u001b[0m\u001b[0;34m)\u001b[0m\u001b[0;34m\u001b[0m\u001b[0;34m\u001b[0m\u001b[0m\n\u001b[1;32m      9\u001b[0m \u001b[0;34m\u001b[0m\u001b[0m\n",
      "\u001b[0;31mZeroDivisionError\u001b[0m: division by zero"
     ]
    },
    {
     "data": {
      "image/png": "[encoded data removed]",
      "text/plain": [
       "<Figure size 720x720 with 1 Axes>"
      ]
     },
     "metadata": {
      "needs_background": "light"
     },
     "output_type": "display_data"
    }
   ],
   "source": [
    "## Tr_Type vary plots where English does very well\n",
    "width = 0.25\n",
    "# spacing = 0.2\n",
    "colors = ['r', 'g', 'b', 'y', 'c', 'm', 'k', 'tab:orange']\n",
    "tau_vals = [0.01, 0.05, 0.1, 0.15]\n",
    "step_size = 1.5\n",
    "\n",
    "TR_TYPES = [\"Clipping\", \"Drop\", \"Frame\"]\n",
    "\n",
    "\n",
    "fig = plt.figure(figsize=(10, 10))\n",
    "ax = fig.add_subplot(111)\n",
    "\n",
    "N = len(GROUPS)\n",
    "ind = np.arange(N * step_size, step = step_size) \n",
    "print(ind + width*i)\n",
    "\n",
    "rects = []\n",
    "\n",
    "sum_arrs = []\n",
    "for i, trans_type in enumerate(TR_TYPES):\n",
    "    error_data_nuggets_subset = get_asr_tr_type_subset(error_data_nuggets, tr_type = trans_type)\n",
    "    sum_arr = (get_data_nugget_sums(error_data_nuggets_subset))\n",
    "    sum_arrs.append(sum_arr)\n",
    "\n",
    "# print(sum_arrs)\n",
    "    \n",
    "    rects.append(ax.bar(ind + width*i, sum_arr, width = width, color=colors[i]))\n",
    "#     plt.bar(LANGUAGES, sum_arr)\n",
    "\n",
    "for rect in rects:\n",
    "    autolabel(rect)\n",
    "    \n",
    "plt.ylim(top = np.max(sum_arrs) *1.1)\n",
    "\n",
    "print(np.mean (get_percentages(sum_arrs)))\n",
    "print([(np.mean(p_sum_arr[0]), p_sum_arr[1]) for p_sum_arr in zip(get_percentages(sum_arrs), TR_TYPES)])\n",
    "print(np.max(get_percentages(sum_arrs)))\n",
    "for p_sum_arr in get_percentages(sum_arrs):\n",
    "    print(p_sum_arr)\n",
    "    \n",
    "\n",
    "\n",
    "\n",
    "ax.legend((rect for rect in rects), (trans_type for trans_type in TR_TYPES))\n",
    "ax.set_xticks(ind + width )\n",
    "ax.set_xticklabels(GROUPS)\n",
    "ax.set_ylabel('Errors')\n",
    "plt.title (\"Transition Type Sensitivity\\n\" + DATASET_TYPE)\n",
    "plt.savefig(SAVE_FOLDER + DATASET_TYPE + \"-Transition-1-Errors\",bbox='tight', dpi=300)\n",
    "\n",
    "plt.show()\n"
   ]
  },
  {
   "cell_type": "code",
   "execution_count": null,
   "metadata": {},
   "outputs": [],
   "source": [
    "## Tr_Type vary plots where English does very well\n",
    "width = 0.2\n",
    "# spacing = 0.2\n",
    "colors = ['r', 'b', 'g', 'y', 'c', 'm', 'k', 'tab:orange']\n",
    "tau_vals = [0.01, 0.05, 0.1, 0.15]\n",
    "step_size = 1.5\n",
    "\n",
    "TR_TYPES = [\"Noise\", \"LP\"]\n",
    "\n",
    "if(DATASET_TYPE_VAL == 0):\n",
    "    TR_TYPES = TR_TYPES + []\n",
    "    multiplier = 0.5\n",
    "elif(DATASET_TYPE_VAL == 1):\n",
    "    TR_TYPES = TR_TYPES + [\"Amp\"]\n",
    "    multiplier = 1   \n",
    "else:\n",
    "    multiplier = 0.5\n",
    "\n",
    "\n",
    "fig = plt.figure(figsize=(10, 10))\n",
    "ax = fig.add_subplot(111)\n",
    "\n",
    "N = len(GROUPS)\n",
    "ind = np.arange(N * step_size, step = step_size) \n",
    "print(ind + width*i)\n",
    "\n",
    "rects = []\n",
    "\n",
    "plt.ylim(top = np.max(sum_arrs) *1.1)\n",
    "\n",
    "\n",
    "sum_arrs = []\n",
    "for i, trans_type in enumerate(TR_TYPES):\n",
    "    error_data_nuggets_subset = get_asr_tr_type_subset(error_data_nuggets, tr_type = trans_type)\n",
    "    sum_arr = (get_data_nugget_sums(error_data_nuggets_subset))\n",
    "    sum_arrs.append(sum_arr)\n",
    "\n",
    "# print(sum_arrs)\n",
    "    \n",
    "    rects.append(ax.bar(ind + width*i, sum_arr, width = width, color=colors[i]))\n",
    "#     plt.bar(GROUPS, sum_arr)\n",
    "\n",
    "for rect in rects:\n",
    "    autolabel(rect)\n",
    "    \n",
    "\n",
    "print(np.mean (get_percentages(sum_arrs)))\n",
    "print([(np.mean(p_sum_arr[0]), p_sum_arr[1]) for p_sum_arr in zip(get_percentages(sum_arrs), TR_TYPES)])\n",
    "print(np.max(get_percentages(sum_arrs)))\n",
    "for p_sum_arr in get_percentages(sum_arrs):\n",
    "    print(p_sum_arr)\n",
    "    \n",
    "    \n",
    "plt.ylim(top = np.max(sum_arrs) *1.1)\n",
    "\n",
    "\n",
    "\n",
    "ax.legend((rect for rect in rects), (trans_type for trans_type in TR_TYPES))\n",
    "ax.set_xticks(ind + width * multiplier )\n",
    "ax.set_xticklabels(GROUPS)\n",
    "ax.set_ylabel('Errors')\n",
    "plt.title (\"Transition Type Sensitivity\\n\" + DATASET_TYPE)\n",
    "plt.savefig(SAVE_FOLDER + DATASET_TYPE + \"-Transition-2-Errors\",bbox='tight', dpi=300)\n",
    "\n",
    "plt.show()\n"
   ]
  },
  {
   "cell_type": "code",
   "execution_count": null,
   "metadata": {},
   "outputs": [],
   "source": [
    "## Tr_Type vary plots where English does comparaby to others\n",
    "width = 0.25\n",
    "# spacing = 0.2\n",
    "colors = ['r', 'b', 'g', 'y', 'c', 'm', 'k', 'tab:orange']\n",
    "tau_vals = [0.01, 0.05, 0.1, 0.15]\n",
    "step_size = 1.5\n",
    "\n",
    "TR_TYPES = [\"Amp\", \"HP\", \"Scale\"]\n",
    "\n",
    "\n",
    "if(DATASET_TYPE_VAL == 0):\n",
    "    TR_TYPES = TR_TYPES + []\n",
    "    multiplier = 1\n",
    "elif(DATASET_TYPE_VAL == 1):\n",
    "    TR_TYPES = [\"HP\", \"Scale\"]\n",
    "    multiplier = 0.5\n",
    "else:\n",
    "    multiplier = 1\n",
    "\n",
    "\n",
    "fig = plt.figure(figsize=(10, 10))\n",
    "ax = fig.add_subplot(111)\n",
    "\n",
    "N = len(GROUPS)\n",
    "ind = np.arange(N * step_size, step = step_size) \n",
    "print(ind + width*i)\n",
    "\n",
    "plt.ylim(top = np.max(sum_arrs) *1.1)\n",
    "\n",
    "\n",
    "\n",
    "\n",
    "\n",
    "rects = []\n",
    "\n",
    "sum_arrs = []\n",
    "for i, trans_type in enumerate(TR_TYPES):\n",
    "    error_data_nuggets_subset = get_asr_tr_type_subset(error_data_nuggets, tr_type = trans_type)\n",
    "    sum_arr = (get_data_nugget_sums(error_data_nuggets_subset))\n",
    "    sum_arrs.append(sum_arr)\n",
    "\n",
    "# print(sum_arrs)\n",
    "    \n",
    "    rects.append(ax.bar(ind + width*i, sum_arr, width = width, color=colors[i]))\n",
    "#     plt.bar(GROUPS, sum_arr)\n",
    "\n",
    "for rect in rects:\n",
    "    autolabel(rect)\n",
    "    \n",
    "plt.ylim(top = np.max(sum_arrs) *1.1)\n",
    "\n",
    "print(np.mean (get_percentages(sum_arrs)))\n",
    "print([(np.mean(p_sum_arr[0]), p_sum_arr[1]) for p_sum_arr in zip(get_percentages(sum_arrs), TR_TYPES)])\n",
    "print(np.max(get_percentages(sum_arrs)))\n",
    "for p_sum_arr in get_percentages(sum_arrs):\n",
    "    print(p_sum_arr)\n",
    "    \n",
    "\n",
    "\n",
    "\n",
    "ax.legend((rect for rect in rects), (trans_type for trans_type in TR_TYPES))\n",
    "ax.set_xticks(ind + width * multiplier)\n",
    "ax.set_xticklabels(GROUPS)\n",
    "ax.set_ylabel('Errors')\n",
    "plt.title (\"Transition Type Sensitivity\\n\" + DATASET_TYPE)\n",
    "plt.savefig(SAVE_FOLDER + DATASET_TYPE + \"-Transition-3-Errors\",bbox='tight', dpi=300)\n",
    "\n",
    "plt.show()\n"
   ]
  },
  {
   "cell_type": "code",
   "execution_count": null,
   "metadata": {},
   "outputs": [],
   "source": [
    "\n",
    "## ASR_TYPE vary plots\n",
    "\n",
    "for i, asr_type in enumerate(ASR_TYPES):\n",
    "    width = 0.25\n",
    "    # spacing = 0.2\n",
    "    colors = ['r', 'g', 'b', 'y']\n",
    "    tau_vals = [0.01, 0.05, 0.1, 0.15]\n",
    "    step_size = 1.5\n",
    "\n",
    "\n",
    "    fig = plt.figure(figsize=(10, 10))\n",
    "    ax = fig.add_subplot(111)\n",
    "\n",
    "    N = len(GROUPS)\n",
    "    ind = np.arange(N * step_size, step = step_size) \n",
    "    # print(ind + width*i)\n",
    "\n",
    "    rects = []\n",
    "\n",
    "    sum_arrs = []\n",
    "    #     error_data_nuggets_subset = get_asr_type_data_subset(error_data_nuggets, asr_type = asr_type)\n",
    "    for i, tau_val in enumerate(tau_vals):\n",
    "        error_data_nuggets_subset = get_asr_type_data_subset(get_tau_data_subset(error_data_nuggets, tau = tau_val), asr_type = asr_type)\n",
    "        sum_arr = (get_data_nugget_sums(error_data_nuggets_subset))\n",
    "        sum_arrs.append(sum_arr)\n",
    "        rects.append(ax.bar(ind + width*i, sum_arr, width = width, color=colors[i]))\n",
    "\n",
    "    for rect in rects:\n",
    "        autolabel(rect)\n",
    "\n",
    "    plt.ylim(top = np.max(sum_arrs) *1.1)\n",
    "\n",
    "\n",
    "\n",
    "    ax.legend((rect for rect in rects), (tau_vals for tau_vals in tau_vals))\n",
    "    ax.set_xticks(ind + width * 1)\n",
    "    ax.set_xticklabels( GROUPS)\n",
    "    ax.set_ylabel('Errors')\n",
    "    plt.title (\"Tau Sensitivity for ASR: \"+ asr_type +\"\\n\" + DATASET_TYPE)\n",
    "    # plt.savefig(SAVE_FOLDER + DATASET_TYPE + \" - ASR Errors\",bbox='tight', dpi=300)\n",
    "\n",
    "    plt.show()\n"
   ]
  },
  {
   "cell_type": "code",
   "execution_count": null,
   "metadata": {},
   "outputs": [],
   "source": []
  },
  {
   "cell_type": "code",
   "execution_count": null,
   "metadata": {},
   "outputs": [],
   "source": []
  },
  {
   "cell_type": "code",
   "execution_count": null,
   "metadata": {},
   "outputs": [],
   "source": []
  },
  {
   "cell_type": "code",
   "execution_count": null,
   "metadata": {},
   "outputs": [],
   "source": []
  },
  {
   "cell_type": "code",
   "execution_count": null,
   "metadata": {},
   "outputs": [],
   "source": []
  },
  {
   "cell_type": "markdown",
   "metadata": {},
   "source": [
    "## "
   ]
  }
 ],
 "metadata": {
  "kernelspec": {
   "display_name": "Python 3",
   "language": "python",
   "name": "python3"
  },
  "language_info": {
   "codemirror_mode": {
    "name": "ipython",
    "version": 3
   },
   "file_extension": ".py",
   "mimetype": "text/x-python",
   "name": "python",
   "nbconvert_exporter": "python",
   "pygments_lexer": "ipython3",
   "version": "3.7.3"
  }
 },
 "nbformat": 4,
 "nbformat_minor": 4
}
