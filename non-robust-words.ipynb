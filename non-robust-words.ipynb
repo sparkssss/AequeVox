{
 "cells": [
  {
   "cell_type": "code",
   "execution_count": 1,
   "metadata": {},
   "outputs": [],
   "source": [
    "import csv"
   ]
  },
  {
   "cell_type": "code",
   "execution_count": 2,
   "metadata": {},
   "outputs": [],
   "source": [
    "LANGUAGES = ['English', 'Ganda', 'French', 'Gujarati', 'Indonesian' ,'Korean', 'Russian']"
   ]
  },
  {
   "cell_type": "code",
   "execution_count": 3,
   "metadata": {},
   "outputs": [],
   "source": [
    "ASR_TYPE = \"IBM\"\n",
    "TRANSFORMATION_TYPE = \"Noise\""
   ]
  },
  {
   "cell_type": "code",
   "execution_count": 4,
   "metadata": {},
   "outputs": [],
   "source": [
    "def get_file_data(asr_type = ASR_TYPE, transformation_type = TRANSFORMATION_TYPE):\n",
    "    file_name = asr_type + \"/\" + asr_type + \" Word Counts - \" + transformation_type + \".csv\"\n",
    "    with open(file_name, newline='') as csvfile:\n",
    "        reader = csv.reader(csvfile, delimiter=',')\n",
    "        file_arr = list(reader)\n",
    "    return file_arr"
   ]
  },
  {
   "cell_type": "code",
   "execution_count": 5,
   "metadata": {},
   "outputs": [],
   "source": [
    "def get_read_rows(initial_drop_loc= 11, gap = 9, num_langs = 7):\n",
    "    read_rows = list(range(initial_drop_loc - 1, initial_drop_loc - 1 + gap * num_langs, gap))\n",
    "    return read_rows"
   ]
  },
  {
   "cell_type": "code",
   "execution_count": 6,
   "metadata": {},
   "outputs": [],
   "source": [
    "def process_word_arr(word_arr):\n",
    "    word_arr = word_arr[1:len(word_arr) - 1]\n",
    "    return [i[:-1] for i in word_arr]"
   ]
  },
  {
   "cell_type": "code",
   "execution_count": 7,
   "metadata": {},
   "outputs": [],
   "source": [
    "def process_num_arr(num_arr):\n",
    "    num_arr = num_arr[1:len(num_arr) - 1]\n",
    "    return [int(i) for i in num_arr]"
   ]
  },
  {
   "cell_type": "code",
   "execution_count": 8,
   "metadata": {},
   "outputs": [],
   "source": [
    "FILE_ARR = get_file_data()\n",
    "READ_ROWS = get_read_rows()"
   ]
  },
  {
   "cell_type": "code",
   "execution_count": 9,
   "metadata": {},
   "outputs": [],
   "source": [
    "# word_arr = file_arr[0]\n",
    "WORD_ARR = process_word_arr(FILE_ARR[0])\n"
   ]
  },
  {
   "cell_type": "code",
   "execution_count": 10,
   "metadata": {},
   "outputs": [],
   "source": [
    "def get_word_drops_arr(file_arr = FILE_ARR, word_arr = WORD_ARR, read_rows = READ_ROWS, \n",
    "                       languages = LANGUAGES, sorted_arr=True, lang_val = 0):\n",
    "    num_arr = (process_num_arr(file_arr[read_rows[lang_val]]))\n",
    "    word_num_arr = []\n",
    "    for i, val in enumerate(num_arr):\n",
    "        word_num_arr.append((word_arr[i], val))\n",
    "    if(sorted_arr):\n",
    "        word_num_arr.sort(key=lambda tup: tup[1], reverse=True)\n",
    "        return languages[lang_val], word_num_arr\n",
    "    else:\n",
    "        return languages[lang_val], word_num_arr"
   ]
  },
  {
   "cell_type": "code",
   "execution_count": 11,
   "metadata": {},
   "outputs": [
    {
     "name": "stdout",
     "output_type": "stream",
     "text": [
      "('English', [('these', 2), ('things', 2), ('she', 2), ('can', 2), ('scoop', 2), ('into', 2), ('please', 1), ('spoons', 1), ('of', 1), ('fresh', 1), ('snow', 1), ('peas', 1), ('thick', 1), ('slabs', 1), ('we', 1), ('toy', 1), ('frog', 1), ('bags', 1), ('call', 0), ('stella', 0), ('ask', 0), ('her', 0), ('to', 0), ('bring', 0), ('with', 0), ('from', 0), ('the', 0), ('store', 0), ('six', 0), ('five', 0), ('blue', 0), ('cheese', 0), ('and', 0), ('maybe', 0), ('a', 0), ('snack', 0), ('for', 0), ('brother', 0), ('bob', 0), ('also', 0), ('need', 0), ('small', 0), ('plastic', 0), ('snake', 0), ('big', 0), ('kids', 0), ('three', 0), ('red', 0), ('will', 0), ('go', 0), ('meet', 0), ('wednesday', 0), ('at', 0), ('train', 0), (\"station'\", 0)])\n"
     ]
    }
   ],
   "source": [
    "print(get_word_drops_arr(lang_val=0))"
   ]
  },
  {
   "cell_type": "code",
   "execution_count": null,
   "metadata": {},
   "outputs": [],
   "source": []
  }
 ],
 "metadata": {
  "kernelspec": {
   "display_name": "Python 3",
   "language": "python",
   "name": "python3"
  },
  "language_info": {
   "codemirror_mode": {
    "name": "ipython",
    "version": 3
   },
   "file_extension": ".py",
   "mimetype": "text/x-python",
   "name": "python",
   "nbconvert_exporter": "python",
   "pygments_lexer": "ipython3",
   "version": "3.7.3"
  }
 },
 "nbformat": 4,
 "nbformat_minor": 4
}
